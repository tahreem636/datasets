{
  "nbformat": 4,
  "nbformat_minor": 0,
  "metadata": {
    "colab": {
      "provenance": [],
      "authorship_tag": "ABX9TyO10zAA9iw3W7u53uGUbNf1",
      "include_colab_link": true
    },
    "kernelspec": {
      "name": "python3",
      "display_name": "Python 3"
    },
    "language_info": {
      "name": "python"
    }
  },
  "cells": [
    {
      "cell_type": "markdown",
      "metadata": {
        "id": "view-in-github",
        "colab_type": "text"
      },
      "source": [
        "<a href=\"https://colab.research.google.com/github/tahreem636/datasets/blob/main/WeatherCorn/train.ipynb\" target=\"_parent\"><img src=\"https://colab.research.google.com/assets/colab-badge.svg\" alt=\"Open In Colab\"/></a>"
      ]
    },
    {
      "cell_type": "code",
      "execution_count": 1,
      "metadata": {
        "id": "MznANyrnN2ew"
      },
      "outputs": [],
      "source": [
        "\n",
        "import pandas as pd\n",
        "import matplotlib.pyplot as plt\n",
        "\n",
        ""
      ]
    },
    {
      "cell_type": "code",
      "source": [
        "import pandas as pd\n",
        "\n",
        "df = pd.read_parquet(\"hf://datasets/zzigakovacic/WeatherCorn/train.parquet\")\n"
      ],
      "metadata": {
        "id": "Q7TBhjAEOLhU"
      },
      "execution_count": 25,
      "outputs": []
    },
    {
      "cell_type": "code",
      "source": [
        "print(df.describe()) # Change 'discribed' to 'describe'"
      ],
      "metadata": {
        "colab": {
          "base_uri": "https://localhost:8080/"
        },
        "id": "P3jQwMd4OZjc",
        "outputId": "a4d913e2-8cba-46f0-a1c6-5a7b23583822"
      },
      "execution_count": 31,
      "outputs": [
        {
          "output_type": "stream",
          "name": "stdout",
          "text": [
            "         column0                                      column1\n",
            "count        307                                          307\n",
            "unique       307                                            4\n",
            "top     filename  partially sunny or partially cloudy weather\n",
            "freq           1                                          118\n"
          ]
        }
      ]
    },
    {
      "cell_type": "code",
      "source": [
        "data,column = df"
      ],
      "metadata": {
        "id": "dsiRuJbFPG2-"
      },
      "execution_count": 34,
      "outputs": []
    },
    {
      "cell_type": "code",
      "source": [
        "# Access the data using the values attribute\n",
        "data = df.values\n",
        "\n",
        "# Access column names using the columns attribute\n",
        "columns = df.columns\n",
        "\n",
        "data.shape"
      ],
      "metadata": {
        "colab": {
          "base_uri": "https://localhost:8080/"
        },
        "id": "AFa3DHfcPMf2",
        "outputId": "84dd27b5-a25e-442c-a76d-06588186b438"
      },
      "execution_count": 36,
      "outputs": [
        {
          "output_type": "execute_result",
          "data": {
            "text/plain": [
              "(307, 2)"
            ]
          },
          "metadata": {},
          "execution_count": 36
        }
      ]
    },
    {
      "cell_type": "code",
      "source": [
        "data[data[:, 0] == ' 307']"
      ],
      "metadata": {
        "colab": {
          "base_uri": "https://localhost:8080/"
        },
        "id": "9Ys8zxoNPQ4A",
        "outputId": "08790ab6-c231-4683-f27d-f2b5a55f0d64"
      },
      "execution_count": 38,
      "outputs": [
        {
          "output_type": "execute_result",
          "data": {
            "text/plain": [
              "array([], shape=(0, 2), dtype=object)"
            ]
          },
          "metadata": {},
          "execution_count": 38
        }
      ]
    },
    {
      "cell_type": "code",
      "source": [
        "df.groupby('column0')['column1'].apply(lambda x: x.str.len()).mean()\n",
        "# Use the original Pandas DataFrame 'df' to perform the groupby operation."
      ],
      "metadata": {
        "colab": {
          "base_uri": "https://localhost:8080/"
        },
        "id": "hXmh-nckPv8x",
        "outputId": "3512ced8-a3fe-4212-a177-bb0325c1822c"
      },
      "execution_count": 40,
      "outputs": [
        {
          "output_type": "execute_result",
          "data": {
            "text/plain": [
              "34.66775244299674"
            ]
          },
          "metadata": {},
          "execution_count": 40
        }
      ]
    },
    {
      "cell_type": "code",
      "source": [
        "\n",
        "import pandas as pd\n",
        "\n",
        "# Sample Data\n",
        "data = {\n",
        "    'column1': [1, 2, 3, 4, 5],\n",
        "    'column0': [304,315,317,330,331]\n",
        "}\n",
        "df = pd.DataFrame(data)\n",
        "plt.bar(df['column1'], df['column0'], color='skyblue')\n",
        "plt.title('Bar Plot of Act vs Prompt')\n",
        "plt.xlabel('column1')\n",
        "plt.ylabel('column0')\n",
        "plt.xticks(df['column1'])  # Ensure all act values are shown on x-axis\n",
        "plt.show()"
      ],
      "metadata": {
        "colab": {
          "base_uri": "https://localhost:8080/",
          "height": 472
        },
        "id": "FWunDoOMQNdZ",
        "outputId": "0ab882b2-13a6-4bc4-d761-15f6d62515ef"
      },
      "execution_count": 42,
      "outputs": [
        {
          "output_type": "display_data",
          "data": {
            "text/plain": [
              "<Figure size 640x480 with 1 Axes>"
            ],
            "image/png": "[encoded data removed]"
          },
          "metadata": {}
        }
      ]
    }
  ]
}